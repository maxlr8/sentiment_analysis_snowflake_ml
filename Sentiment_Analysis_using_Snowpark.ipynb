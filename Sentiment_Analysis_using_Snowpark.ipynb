{
 "cells": [
  {
   "cell_type": "markdown",
   "metadata": {},
   "source": [
    "## __Sentiment Analysis using IMDB Movie Reviews__"
   ]
  },
  {
   "cell_type": "markdown",
   "metadata": {},
   "source": [
    "### __Index__\n",
    "\n",
    "<ol>\n",
    "  <li><a href='#section1'>Initializations</a></li>\n",
    "  <li><a href='#section2'>Loading Credentials</a></li>\n",
    "  <li><a href='#section3'>Create Session</a></li>\n",
    "  <li><a href='#section4'>Import packages and libraries in Snowflake</a></li>\n",
    "  <li><a href='#section5'>Create a Staging Environment</a></li>\n",
    "  <li><a href='#section6'>Create tables in PUBLIC</a></li>\n",
    "  <li><a href='#section7'>Loading IMDB datasets into the Stage</a></li>\n",
    "  <li><a href='#section8'>Training Model</a></li>\n",
    "  <li><a href='#section9'>Import and Deploy Serialized Model</a></li>  \n",
    "  <li><a href='#section10'>Prediction</a></li>\n",
    "  <li><a href='#section11'>Compare Prediction with Output</a></li>\n",
    "  <li><a href='#section12'>Pushing the Prediction to Snowflake</a></li>\n",
    "</ol>"
   ]
  },
  {
   "cell_type": "markdown",
   "metadata": {},
   "source": [
    "#### <a id='isection1'> __Initializations__ </a>"
   ]
  },
  {
   "cell_type": "code",
   "execution_count": 1,
   "metadata": {},
   "outputs": [],
   "source": [
    "# pylint=disable-all\n",
    "\n",
    "from sklearn import svm\n",
    "from joblib import dump\n",
    "from dotenv import load_dotenv\n",
    "\n",
    "from nltk.corpus import stopwords\n",
    "from snowflake.snowpark import functions as fn\n",
    "\n",
    "from snowflake.snowpark.session import Session\n",
    "from snowflake.snowpark import functions as fn\n",
    "from snowflake.snowpark.functions import udf, sproc, col\n",
    "from snowflake.snowpark.types import IntegerType, FloatType, StringType, BooleanType, Variant\n",
    "\n",
    "import os\n",
    "import sys\n",
    "import joblib\n",
    "import zipfile\n",
    "import cachetools\n",
    "import numpy as np\n",
    "import pandas as pd\n",
    "import sklearn.feature_extraction.text as txt"
   ]
  },
  {
   "cell_type": "code",
   "execution_count": 2,
   "metadata": {},
   "outputs": [
    {
     "name": "stdout",
     "output_type": "stream",
     "text": [
      "Snowflake Snowpark Version - (1, 10, 0)\n"
     ]
    }
   ],
   "source": [
    "from snowflake.snowpark import version\n",
    "\n",
    "print(f\"Snowflake Snowpark Version - {version.VERSION}\")"
   ]
  },
  {
   "cell_type": "markdown",
   "metadata": {},
   "source": [
    "#### <a id='isection2'> __Load Credentials__ </a>"
   ]
  },
  {
   "cell_type": "code",
   "execution_count": 3,
   "metadata": {},
   "outputs": [
    {
     "data": {
      "text/plain": [
       "True"
      ]
     },
     "execution_count": 3,
     "metadata": {},
     "output_type": "execute_result"
    }
   ],
   "source": [
    "ENV = \"./credentials.env\"\n",
    "load_dotenv(ENV)"
   ]
  },
  {
   "cell_type": "markdown",
   "metadata": {},
   "source": [
    "#### <a id='isection3'> __Create Session__ </a>"
   ]
  },
  {
   "cell_type": "code",
   "execution_count": 7,
   "metadata": {},
   "outputs": [
    {
     "name": "stdout",
     "output_type": "stream",
     "text": [
      "[Row(status='Statement executed successfully.')]\n",
      "[Row(status='Statement executed successfully.')]\n",
      "[Row(CURRENT_ROLE()='ACCOUNTADMIN', CURRENT_WAREHOUSE()='SNOWPARK_ETL_WAREHOUSE', CURRENT_DATABASE()='IMDB', CURRENT_SCHEMA()='PUBLIC')]\n"
     ]
    }
   ],
   "source": [
    "def get_snowpark_session() -> Session:\n",
    "    connection_parameters = {\n",
    "        \"ACCOUNT\": os.environ.get(\"ACCOUNT\"),\n",
    "        \"USER\": os.environ.get(\"MY_USER\"),\n",
    "        \"PASSWORD\": os.environ.get(\"MY_PASS\"),\n",
    "        \"ROLE\": os.environ.get(\"SP_ADMIN_ROLE\"),\n",
    "        \"DATABASE\": os.environ.get(\"DB\"),\n",
    "        \"SCHEMA\": os.environ.get(\"SCHEMA\"),\n",
    "        \"WAREHOUSE\": os.environ.get(\"WAREHOUSE\")\n",
    "    }\n",
    "\n",
    "    return Session.builder.configs(connection_parameters).create()\n",
    "\n",
    "session = get_snowpark_session()\n",
    "\n",
    "print(f\"\\n{session.sql('USE ROLE ACCOUNTADMIN').collect()}\")\n",
    "print(session.sql('USE IMDB.PUBLIC').collect())\n",
    "print(session.sql('SELECT current_role(), current_warehouse(), current_database(), current_schema()').collect(), end='\\n')"
   ]
  },
  {
   "cell_type": "markdown",
   "metadata": {},
   "source": [
    "#### <a id='isection4'> __Import packages and libraries in Snowflake__ </a>"
   ]
  },
  {
   "cell_type": "code",
   "execution_count": 9,
   "metadata": {},
   "outputs": [
    {
     "name": "stderr",
     "output_type": "stream",
     "text": [
      "The version of package 'snowflake-snowpark-python' in the local environment is 1.10.0, which does not fit the criteria for the requirement 'snowflake-snowpark-python'. Your UDF might not work when the package version is different between the server and your local environment.\n",
      "The version of package 'scikit-learn' in the local environment is 1.3.2, which does not fit the criteria for the requirement 'scikit-learn'. Your UDF might not work when the package version is different between the server and your local environment.\n",
      "The version of package 'pandas' in the local environment is 2.1.3, which does not fit the criteria for the requirement 'pandas'. Your UDF might not work when the package version is different between the server and your local environment.\n",
      "The version of package 'numpy' in the local environment is 1.26.2, which does not fit the criteria for the requirement 'numpy'. Your UDF might not work when the package version is different between the server and your local environment.\n",
      "The version of package 'joblib' in the local environment is 1.3.2, which does not fit the criteria for the requirement 'joblib'. Your UDF might not work when the package version is different between the server and your local environment.\n",
      "The version of package 'cachetools' in the local environment is 5.3.2, which does not fit the criteria for the requirement 'cachetools'. Your UDF might not work when the package version is different between the server and your local environment.\n"
     ]
    }
   ],
   "source": [
    "session.clear_imports()\n",
    "session.clear_packages()\n",
    "\n",
    "session.add_packages(\"snowflake-snowpark-python\", \"scikit-learn\", \"pandas\", \"numpy\", \"nltk\", \"joblib\", \"cachetools\")"
   ]
  },
  {
   "cell_type": "markdown",
   "metadata": {},
   "source": [
    "#### <a id='isection5'> __Create a Staging Environment__ </a>"
   ]
  },
  {
   "cell_type": "code",
   "execution_count": 8,
   "metadata": {},
   "outputs": [
    {
     "data": {
      "text/plain": [
       "[Row(status='Stage area SENTIMENT_MODEL successfully created.')]"
      ]
     },
     "execution_count": 8,
     "metadata": {},
     "output_type": "execute_result"
    }
   ],
   "source": [
    "session.sql(\"CREATE STAGE IF NOT EXISTS sentiment_model\").collect()"
   ]
  },
  {
   "cell_type": "markdown",
   "metadata": {},
   "source": [
    "#### <a id='isection6'> __Create tables in PUBLIC__ </a>"
   ]
  },
  {
   "cell_type": "code",
   "execution_count": 73,
   "metadata": {},
   "outputs": [
    {
     "name": "stdout",
     "output_type": "stream",
     "text": [
      "[Row(status='Table TRAIN_DATASET successfully created.')]\n",
      "[Row(status='Table TEST_DATASET successfully created.')]\n"
     ]
    }
   ],
   "source": [
    "print(session.sql('''CREATE TABLE PUBLIC.TRAIN_DATASET(REVIEW VARCHAR, SENTIMENT VARCHAR);''').collect())\n",
    "print(session.sql('''CREATE TABLE PUBLIC.TEST_DATASET(REVIEW VARCHAR, SENTIMENT VARCHAR);''').collect())"
   ]
  },
  {
   "cell_type": "code",
   "execution_count": 74,
   "metadata": {},
   "outputs": [
    {
     "name": "stdout",
     "output_type": "stream",
     "text": [
      "-----------------------------------------------------------------------------------------------------------------------------------------------------------------------------------------------------------------------------------------------------------------------------------------------------------------------------------------------------------------------------------------------------------\n",
      "|\"created_on\"                      |\"name\"         |\"database_name\"  |\"schema_name\"  |\"kind\"  |\"comment\"  |\"cluster_by\"  |\"rows\"  |\"bytes\"  |\"owner\"       |\"retention_time\"  |\"automatic_clustering\"  |\"change_tracking\"  |\"search_optimization\"  |\"search_optimization_progress\"  |\"search_optimization_bytes\"  |\"is_external\"  |\"enable_schema_evolution\"  |\"owner_role_type\"  |\"is_event\"  |\"budget\"  |\n",
      "-----------------------------------------------------------------------------------------------------------------------------------------------------------------------------------------------------------------------------------------------------------------------------------------------------------------------------------------------------------------------------------------------------------\n",
      "|2023-11-18 00:06:26.227000-08:00  |TEST_DATASET   |IMDB             |PUBLIC         |TABLE   |           |              |0       |0        |ACCOUNTADMIN  |1                 |OFF                     |OFF                |OFF                    |NULL                            |NULL                         |N              |N                          |ROLE               |N           |NULL      |\n",
      "|2023-11-18 00:06:26.061000-08:00  |TRAIN_DATASET  |IMDB             |PUBLIC         |TABLE   |           |              |0       |0        |ACCOUNTADMIN  |1                 |OFF                     |OFF                |OFF                    |NULL                            |NULL                         |N              |N                          |ROLE               |N           |NULL      |\n",
      "-----------------------------------------------------------------------------------------------------------------------------------------------------------------------------------------------------------------------------------------------------------------------------------------------------------------------------------------------------------------------------------------------------------\n",
      "\n"
     ]
    }
   ],
   "source": [
    "session.sql(\"SHOW TABLES LIKE '%_DATASET';\").show()"
   ]
  },
  {
   "cell_type": "markdown",
   "metadata": {},
   "source": [
    "#### <a id='isection7'> __Loading IMDB datasets into the Stage__ </a>"
   ]
  },
  {
   "cell_type": "code",
   "execution_count": null,
   "metadata": {},
   "outputs": [],
   "source": [
    "def extract_zip(zip_file_path, extraction_path):\n",
    "    for path in zip_file_path:\n",
    "        with zipfile.ZipFile(path, 'r') as zip_ref:\n",
    "            zip_ref.extractall(extraction_path)\n",
    "\n",
    "zip_file_path = ['./dataset/TEST_DATASET.zip', './dataset/TRAIN_DATASET.zip']\n",
    "extraction_path = './dataset'\n",
    "\n",
    "extract_zip(zip_file_path, extraction_path)"
   ]
  },
  {
   "cell_type": "code",
   "execution_count": 75,
   "metadata": {},
   "outputs": [
    {
     "data": {
      "text/plain": [
       "[PutResult(source='TEST_DATASET.csv', target='TEST_DATASET.csv', source_size=13868564, target_size=13868576, source_compression='NONE', target_compression='NONE', status='UPLOADED', message='')]"
      ]
     },
     "execution_count": 75,
     "metadata": {},
     "output_type": "execute_result"
    }
   ],
   "source": [
    "train_dataset_path = \"./dataset/TRAIN_DATASET.csv\"\n",
    "test_dataset_path = \"./dataset/TEST_DATASET.csv\"\n",
    "\n",
    "IMDB_stage = \"@sentiment_model\"\n",
    "\n",
    "session.file.put(train_dataset_path, IMDB_stage, auto_compress=False, overwrite=True)\n",
    "session.file.put(test_dataset_path, IMDB_stage, auto_compress=False, overwrite=True)"
   ]
  },
  {
   "cell_type": "code",
   "execution_count": 76,
   "metadata": {},
   "outputs": [
    {
     "name": "stdout",
     "output_type": "stream",
     "text": [
      "[Row(file='sentiment_model/TRAIN_DATASET.csv', status='LOADED', rows_parsed=64642, rows_loaded=64642, error_limit=1, errors_seen=0, first_error=None, first_error_line=None, first_error_character=None, first_error_column_name=None)]\n",
      "[Row(file='sentiment_model/TEST_DATASET.csv', status='LOADED', rows_parsed=10373, rows_loaded=10373, error_limit=1, errors_seen=0, first_error=None, first_error_line=None, first_error_character=None, first_error_column_name=None)]\n"
     ]
    }
   ],
   "source": [
    "print(session.sql('''COPY INTO TRAIN_DATASET FROM @sentiment_model/TRAIN_DATASET.csv FILE_FORMAT = (TYPE = 'CSV' FIELD_OPTIONALLY_ENCLOSED_BY='\"')''').collect())\n",
    "print(session.sql('''COPY INTO TEST_DATASET FROM @sentiment_model/TEST_DATASET.csv FILE_FORMAT = (TYPE = 'CSV' FIELD_OPTIONALLY_ENCLOSED_BY='\"')''').collect())"
   ]
  },
  {
   "cell_type": "markdown",
   "metadata": {},
   "source": [
    "#### __View Tables__"
   ]
  },
  {
   "cell_type": "code",
   "execution_count": 77,
   "metadata": {},
   "outputs": [
    {
     "name": "stdout",
     "output_type": "stream",
     "text": [
      "--------------------------------------------------------------------\n",
      "|\"REVIEW\"                                            |\"SENTIMENT\"  |\n",
      "--------------------------------------------------------------------\n",
      "|\"I gave this a 2, and it only avoided a 1 becau...  |negative     |\n",
      "|\"I really liked this movie. If other people wan...  |positive     |\n",
      "|\"Robin Williams and Kurt Russell play guys in t...  |positive     |\n",
      "|\"Got this the other day from the Creators on DV...  |positive     |\n",
      "|\"I guess I am coming late to the party. I just ...  |negative     |\n",
      "|\"I recently rented this video after seeing \"\"Fi...  |positive     |\n",
      "|\"My first question after seeing this film was, ...  |negative     |\n",
      "|\"Rise of the Undead starts as some huge nuclear...  |negative     |\n",
      "|\"One of the best parts of Sundance is seeing mo...  |positive     |\n",
      "|\"Jane Eyre has always been my favorite novel! W...  |positive     |\n",
      "--------------------------------------------------------------------\n",
      "\n"
     ]
    }
   ],
   "source": [
    "session.table(\"TRAIN_DATASET\").show()"
   ]
  },
  {
   "cell_type": "code",
   "execution_count": 79,
   "metadata": {},
   "outputs": [
    {
     "name": "stdout",
     "output_type": "stream",
     "text": [
      "--------------------------------------------------------------------\n",
      "|\"REVIEW\"                                            |\"SENTIMENT\"  |\n",
      "--------------------------------------------------------------------\n",
      "|REVIEW                                              |SENTIMENT    |\n",
      "|aking this film into a monumental success simpl...  |negative     |\n",
      "|\"I remember seeing this film years ago on, I th...  |positive     |\n",
      "|\"A truly masterful piece of filmmaking. It mana...  |negative     |\n",
      "|\"Terrible. There's no way to get around it. A s...  |negative     |\n",
      "|\"Take a few dark and stormy nights, fog coming ...  |negative     |\n",
      "|\"I enjoyed the beautiful scenery in this movie ...  |negative     |\n",
      "|\"*********Ten out of Ten Stars********* <br /><...  |positive     |\n",
      "|\"This film was total rubbish. I was sitting wat...  |negative     |\n",
      "|\"Lady and the Tramp II: Scamp's Adventure is a ...  |positive     |\n",
      "--------------------------------------------------------------------\n",
      "\n"
     ]
    }
   ],
   "source": [
    "session.table(\"TEST_DATASET\").show()"
   ]
  },
  {
   "cell_type": "markdown",
   "metadata": {},
   "source": [
    "#### <a id='isection8'> __Training Model__ </a>"
   ]
  },
  {
   "cell_type": "code",
   "execution_count": 94,
   "metadata": {},
   "outputs": [],
   "source": [
    "def train_model_review_pipline(session : Session, train_dataset_name: str) -> Variant:\n",
    "        \n",
    "    train_dataset = session.table(train_dataset_name)\n",
    "    train_dataset_flag = train_dataset.withColumn(\"SENTIMENT_FLAG\", fn.when(train_dataset.SENTIMENT == \"positive\", 1).otherwise(2))\n",
    "    \n",
    "    nb_record = train_dataset_flag.count()\n",
    "    \n",
    "    train_x = train_dataset_flag.toPandas().REVIEW.values\n",
    "    train_y = train_dataset_flag.toPandas().SENTIMENT_FLAG.values\n",
    "    \n",
    "    print('\\nSize of train_x : ', len(train_x))\n",
    "    print('Size of train_y : ', len(train_y), end = '\\n')\n",
    "    \n",
    "    print('Configuring parameters ...\\n')\n",
    "    \n",
    "    # Bags of Words: parameters\n",
    "    \n",
    "    analyzer = 'word'  # {‘word’, ‘char’, ‘char_wb’} - Considers each word as a token.\n",
    "    ngram_range = (1, 3)   # Considering uni-grams, bi-grams, and tri-grams.\n",
    "    token = \"[\\\\w']+\\\\w\\\\b\"    # Regex expression considering tokens.\n",
    "    binary = True   # Considers the encoding (1 / 0) to be present/absent rather than term-frequency.\n",
    "    max_df = 0.02    #50. * 1./len(train_x) -  Terms appearing in more than 2% of the documents are ignored.\n",
    "    min_df = 1 * 1./len(train_x)    # Terms appearing in less than 1 document are ignored.\n",
    "    svm_max_iter = 100  # An upper limit on the no. of iterations the solver can perform while optimizing the model after which it stops.\n",
    "    svm_c = 1.8  # The penalty parameter of the error term controls the trade-off between achieving a low training error and a low testing error. 1.8 is a moderate regularization strength.\n",
    "    \n",
    "    max_features = 100000\n",
    "    languages = ['english']\n",
    "    lowercase = True    \n",
    "    strip_accents = 'ascii' #  {‘ascii’, ‘unicode’, None} - Removes accents using ASCII encoding and performs other character normalization during the preprocessing step.\n",
    "    \n",
    "    print('\\nBuilding Sparse Matrix ...\\n')\n",
    "    Cvec = txt.CountVectorizer(\n",
    "        token_pattern=token, \\\n",
    "        ngram_range=ngram_range, \\\n",
    "        analyzer=analyzer,\\\n",
    "        max_df=max_df, \\\n",
    "        min_df=min_df, \\\n",
    "        vocabulary=None, \n",
    "        binary=binary)\n",
    "\n",
    "    # Training Model\n",
    "    bow = Cvec.fit_transform(train_x)\n",
    "    print(f\"\\nVocabulary Size : {len(Cvec.vocabulary_.keys())}\\n\")\n",
    "    \n",
    "    print('\\nFitting model ...\\n')\n",
    "    model = svm.LinearSVC(C=svm_c, max_iter=svm_max_iter)\n",
    "    print(f\"\\nmodel.fit - {model.fit(bow, train_y)}\\n\")\n",
    "    \n",
    "    # Upload the Vectorizer (BOW) to a stage\n",
    "    print('\\nUploading the Vectorizer (BOW) to a stage\\n')\n",
    "    session.sql('CREATE STAGE IF NOT EXISTS sentiment_model').collect()\n",
    "\n",
    "    model_output_dire = '/tmp'\n",
    "    model_file = os.path.join(model_output_dire, 'vect_review.joblib')\n",
    "\n",
    "    dump(Cvec, model_file, compress=True)\n",
    "\n",
    "    session.file.put(model_file, \"@sentiment_model\", auto_compress=False, overwrite=True)\n",
    "    \n",
    "    # Upload trained model to a stage\n",
    "    print('\\nUpload trained model to a stage\\n')\n",
    "    session.sql('CREATE STAGE IF NOT EXISTS sentiment_model').collect()\n",
    "    \n",
    "    model_output_dire = '/tmp'\n",
    "    model_file = os.path.join(model_output_dire, 'model_review.joblib')\n",
    "    \n",
    "    dump(model, model_file, compress=True)\n",
    "    \n",
    "    session.file.put(model_file, \"@sentiment_model\", auto_compress=False, overwrite=True)\n",
    "    \n",
    "    return {\"STATUS\": \"SUCCESS\", \"R2 Score Train\": str(model.score(bow, train_y))}"
   ]
  },
  {
   "cell_type": "markdown",
   "metadata": {},
   "source": [
    "#### __Pushing_the_model_into_Snowflake__"
   ]
  },
  {
   "cell_type": "code",
   "execution_count": 95,
   "metadata": {},
   "outputs": [],
   "source": [
    "val = session.sproc.register(func=train_model_review_pipline, name=\"train_model_review_pipline\", replace=True)"
   ]
  },
  {
   "cell_type": "markdown",
   "metadata": {},
   "source": [
    "#### __Run Training__"
   ]
  },
  {
   "cell_type": "code",
   "execution_count": 96,
   "metadata": {},
   "outputs": [
    {
     "data": {
      "text/plain": [
       "'{\\n  \"R2 Score Train\": \"1.0\",\\n  \"STATUS\": \"SUCCESS\"\\n}'"
      ]
     },
     "execution_count": 96,
     "metadata": {},
     "output_type": "execute_result"
    }
   ],
   "source": [
    "train_result = session.call(\"train_model_review_pipline\", \"TRAIN_DATASET\")"
   ]
  },
  {
   "cell_type": "code",
   "execution_count": 130,
   "metadata": {},
   "outputs": [
    {
     "data": {
      "text/html": [
       "<div>\n",
       "<style scoped>\n",
       "    .dataframe tbody tr th:only-of-type {\n",
       "        vertical-align: middle;\n",
       "    }\n",
       "\n",
       "    .dataframe tbody tr th {\n",
       "        vertical-align: top;\n",
       "    }\n",
       "\n",
       "    .dataframe thead th {\n",
       "        text-align: right;\n",
       "    }\n",
       "</style>\n",
       "<table border=\"1\" class=\"dataframe\">\n",
       "  <thead>\n",
       "    <tr style=\"text-align: right;\">\n",
       "      <th></th>\n",
       "      <th>name</th>\n",
       "      <th>size</th>\n",
       "    </tr>\n",
       "  </thead>\n",
       "  <tbody>\n",
       "    <tr>\n",
       "      <th>0</th>\n",
       "      <td>sentiment_model/TEST_DATASET.csv</td>\n",
       "      <td>13868576</td>\n",
       "    </tr>\n",
       "    <tr>\n",
       "      <th>1</th>\n",
       "      <td>sentiment_model/TRAIN_DATASET.csv</td>\n",
       "      <td>86080208</td>\n",
       "    </tr>\n",
       "    <tr>\n",
       "      <th>2</th>\n",
       "      <td>sentiment_model/model_review.joblib</td>\n",
       "      <td>34563792</td>\n",
       "    </tr>\n",
       "    <tr>\n",
       "      <th>3</th>\n",
       "      <td>sentiment_model/vect_review.joblib</td>\n",
       "      <td>102731600</td>\n",
       "    </tr>\n",
       "  </tbody>\n",
       "</table>\n",
       "</div>"
      ],
      "text/plain": [
       "                                  name       size\n",
       "0     sentiment_model/TEST_DATASET.csv   13868576\n",
       "1    sentiment_model/TRAIN_DATASET.csv   86080208\n",
       "2  sentiment_model/model_review.joblib   34563792\n",
       "3   sentiment_model/vect_review.joblib  102731600"
      ]
     },
     "execution_count": 130,
     "metadata": {},
     "output_type": "execute_result"
    }
   ],
   "source": [
    "pd.DataFrame(session.sql(\"LIST '@sentiment_model'\").collect()).drop(columns=['md5', 'last_modified'])\n",
    "\n",
    "# The matrix (vect_review - ~821MB) takes more Memory than the model (model_review - ~276MB)."
   ]
  },
  {
   "cell_type": "markdown",
   "metadata": {},
   "source": [
    "#### <a id='isection9'> __Import and Deploy Serialized Model__ </a>"
   ]
  },
  {
   "cell_type": "markdown",
   "metadata": {},
   "source": [
    "#### __Import the Serialized Model__"
   ]
  },
  {
   "cell_type": "code",
   "execution_count": 131,
   "metadata": {},
   "outputs": [],
   "source": [
    "session.add_import(\"@sentiment_model/model_review.joblib\")\n",
    "session.add_import(\"@sentiment_model/vect_review.joblib\")"
   ]
  },
  {
   "cell_type": "markdown",
   "metadata": {},
   "source": [
    "#### __Deploy the model using Python UDF__"
   ]
  },
  {
   "cell_type": "code",
   "execution_count": 134,
   "metadata": {},
   "outputs": [],
   "source": [
    "# To leverage the cache speed for loading the model and matrix in the UDF prediction function, we add the cache decorator.\n",
    "\n",
    "@cachetools.cached(cache={})\n",
    "def load_file(filename):\n",
    "    \n",
    "    import_dir = sys._xoptions.get(\"snowflake_import_directory\")\n",
    "    \n",
    "    if import_dir:\n",
    "        with open(os.path.join(import_dir, filename), 'rb') as file:\n",
    "            m = joblib.load(file)\n",
    "            return m"
   ]
  },
  {
   "cell_type": "code",
   "execution_count": 136,
   "metadata": {},
   "outputs": [
    {
     "name": "stdout",
     "output_type": "stream",
     "text": [
      "CPU times: total: 641 ms\n",
      "Wall time: 3.07 s\n"
     ]
    }
   ],
   "source": [
    "%%time\n",
    "\n",
    "@udf(name='predict_review', is_permanent = False, stage_location = '@sentiment_model', replace=True, session=session)\n",
    "def predict_review(args: list) -> float:\n",
    "\n",
    "    model = load_file(\"model_review.joblib\")\n",
    "    vec = load_file(\"vect_review.joblib\")\n",
    "        \n",
    "    features = list([\"REVIEW\", \"SENTIMENT_FLAG\"])\n",
    "    \n",
    "    row = pd.DataFrame([args], columns=features)\n",
    "    bowTest = vec.transform(row.REVIEW.values)\n",
    "    \n",
    "    return model.predict(bowTest)"
   ]
  },
  {
   "cell_type": "markdown",
   "metadata": {},
   "source": [
    "#### <a id='isection10'> __Prediction__ </a>"
   ]
  },
  {
   "cell_type": "code",
   "execution_count": 143,
   "metadata": {},
   "outputs": [
    {
     "name": "stdout",
     "output_type": "stream",
     "text": [
      "Number of records in the Test Dataframe: 10373\n",
      "\n",
      "---------------------------------------------------------------------------------------\n",
      "|\"REVIEW\"                                            |\"SENTIMENT\"  |\"SENTIMENT_FLAG\"  |\n",
      "---------------------------------------------------------------------------------------\n",
      "|REVIEW                                              |SENTIMENT    |2                 |\n",
      "|aking this film into a monumental success simpl...  |negative     |2                 |\n",
      "|\"I remember seeing this film years ago on, I th...  |positive     |1                 |\n",
      "|\"A truly masterful piece of filmmaking. It mana...  |negative     |2                 |\n",
      "|\"Terrible. There's no way to get around it. A s...  |negative     |2                 |\n",
      "|\"Take a few dark and stormy nights, fog coming ...  |negative     |2                 |\n",
      "|\"I enjoyed the beautiful scenery in this movie ...  |negative     |2                 |\n",
      "|\"*********Ten out of Ten Stars********* <br /><...  |positive     |1                 |\n",
      "|\"This film was total rubbish. I was sitting wat...  |negative     |2                 |\n",
      "|\"Lady and the Tramp II: Scamp's Adventure is a ...  |positive     |1                 |\n",
      "---------------------------------------------------------------------------------------\n",
      "\n"
     ]
    }
   ],
   "source": [
    "test_dataset = session.table(\"TEST_DATASET\")\n",
    "\n",
    "new_df = test_dataset.withColumn(\n",
    "    \"SENTIMENT_FLAG\", \n",
    "    fn.when(test_dataset.SENTIMENT == \"positive\", 1).otherwise(2)\n",
    ")\n",
    "print(f\"Number of records in the Test Dataframe: {new_df.count()}\\n\")\n",
    "\n",
    "new_df.show()"
   ]
  },
  {
   "cell_type": "code",
   "execution_count": 144,
   "metadata": {},
   "outputs": [
    {
     "name": "stdout",
     "output_type": "stream",
     "text": [
      "------------------------------------------------------------------------------------------------------------\n",
      "|\"REVIEW\"                                            |\"SENTIMENT\"  |\"SENTIMENT_FLAG\"  |\"PREDICTED_REVIEW\"  |\n",
      "------------------------------------------------------------------------------------------------------------\n",
      "|REVIEW                                              |SENTIMENT    |2                 |2.0                 |\n",
      "|aking this film into a monumental success simpl...  |negative     |2                 |2.0                 |\n",
      "|\"I remember seeing this film years ago on, I th...  |positive     |1                 |1.0                 |\n",
      "|\"A truly masterful piece of filmmaking. It mana...  |negative     |2                 |2.0                 |\n",
      "|\"Terrible. There's no way to get around it. A s...  |negative     |2                 |2.0                 |\n",
      "|\"Take a few dark and stormy nights, fog coming ...  |negative     |2                 |2.0                 |\n",
      "|\"I enjoyed the beautiful scenery in this movie ...  |negative     |2                 |2.0                 |\n",
      "|\"*********Ten out of Ten Stars********* <br /><...  |positive     |1                 |1.0                 |\n",
      "|\"This film was total rubbish. I was sitting wat...  |negative     |2                 |2.0                 |\n",
      "|\"Lady and the Tramp II: Scamp's Adventure is a ...  |positive     |1                 |1.0                 |\n",
      "------------------------------------------------------------------------------------------------------------\n",
      "\n",
      "CPU times: total: 0 ns\n",
      "Wall time: 43.7 s\n"
     ]
    }
   ],
   "source": [
    "%%time\n",
    "\n",
    "new_df.select(\n",
    "    new_df.REVIEW, \n",
    "    new_df.SENTIMENT, \n",
    "    new_df.SENTIMENT_FLAG, \n",
    "    fn.call_udf(\n",
    "        \"predict_review\", \n",
    "        fn.array_construct(col(\"REVIEW\"), col(\"SENTIMENT_FLAG\"))\n",
    "    ).alias('PREDICTED_REVIEW')\n",
    ").show()"
   ]
  },
  {
   "cell_type": "markdown",
   "metadata": {},
   "source": [
    "#### <a id='isection11'> __Compare Prediction with Output__ </a>"
   ]
  },
  {
   "cell_type": "markdown",
   "metadata": {},
   "source": [
    "#### __Create table for comparison__"
   ]
  },
  {
   "cell_type": "code",
   "execution_count": 145,
   "metadata": {},
   "outputs": [
    {
     "data": {
      "text/plain": [
       "[Row(status='View VIEW_TEST_DATASET successfully created.')]"
      ]
     },
     "execution_count": 145,
     "metadata": {},
     "output_type": "execute_result"
    }
   ],
   "source": [
    "session.sql(\n",
    "    \"CREATE OR REPLACE VIEW PUBLIC.VIEW_TEST_DATASET AS \\\n",
    "            SELECT REVIEW, SENTIMENT, CASE \\\n",
    "                    WHEN (SENTIMENT = 'positive') THEN 1 :: bigint \\\n",
    "                    ELSE 2 :: bigint \\\n",
    "                END AS SENTIMENT_FLAG \\\n",
    "            FROM \\\n",
    "                TEST_DATASET\"\n",
    ").collect()"
   ]
  },
  {
   "cell_type": "markdown",
   "metadata": {},
   "source": [
    "#### __Review__"
   ]
  },
  {
   "cell_type": "code",
   "execution_count": 146,
   "metadata": {},
   "outputs": [
    {
     "name": "stdout",
     "output_type": "stream",
     "text": [
      "------------------------------------------------------------------------------------------------------------\n",
      "|\"REVIEW\"                                            |\"SENTIMENT\"  |\"SENTIMENT_FLAG\"  |\"PREDICTED_REVIEW\"  |\n",
      "------------------------------------------------------------------------------------------------------------\n",
      "|REVIEW                                              |SENTIMENT    |2                 |2.0                 |\n",
      "|aking this film into a monumental success simpl...  |negative     |2                 |2.0                 |\n",
      "|\"I remember seeing this film years ago on, I th...  |positive     |1                 |1.0                 |\n",
      "|\"A truly masterful piece of filmmaking. It mana...  |negative     |2                 |2.0                 |\n",
      "|\"Terrible. There's no way to get around it. A s...  |negative     |2                 |2.0                 |\n",
      "|\"Take a few dark and stormy nights, fog coming ...  |negative     |2                 |2.0                 |\n",
      "|\"I enjoyed the beautiful scenery in this movie ...  |negative     |2                 |2.0                 |\n",
      "|\"*********Ten out of Ten Stars********* <br /><...  |positive     |1                 |1.0                 |\n",
      "|\"This film was total rubbish. I was sitting wat...  |negative     |2                 |2.0                 |\n",
      "|\"Lady and the Tramp II: Scamp's Adventure is a ...  |positive     |1                 |1.0                 |\n",
      "------------------------------------------------------------------------------------------------------------\n",
      "\n",
      "CPU times: total: 0 ns\n",
      "Wall time: 42.6 s\n"
     ]
    }
   ],
   "source": [
    "%%time\n",
    "\n",
    "session.sql(\n",
    "    \"SELECT REVIEW, SENTIMENT, SENTIMENT_FLAG, \\\n",
    "            predict_review(ARRAY_CONSTRUCT( \\\n",
    "                                    REVIEW, \\\n",
    "                                    SENTIMENT_FLAG)) as PREDICTED_REVIEW \\\n",
    "                                    from VIEW_TEST_DATASET\"\n",
    ").show()"
   ]
  },
  {
   "cell_type": "code",
   "execution_count": 147,
   "metadata": {},
   "outputs": [
    {
     "data": {
      "text/html": [
       "<div>\n",
       "<style scoped>\n",
       "    .dataframe tbody tr th:only-of-type {\n",
       "        vertical-align: middle;\n",
       "    }\n",
       "\n",
       "    .dataframe tbody tr th {\n",
       "        vertical-align: top;\n",
       "    }\n",
       "\n",
       "    .dataframe thead th {\n",
       "        text-align: right;\n",
       "    }\n",
       "</style>\n",
       "<table border=\"1\" class=\"dataframe\">\n",
       "  <thead>\n",
       "    <tr style=\"text-align: right;\">\n",
       "      <th></th>\n",
       "      <th>REVIEW</th>\n",
       "      <th>SENTIMENT</th>\n",
       "      <th>SENTIMENT_FLAG</th>\n",
       "      <th>PREDICTED_REVIEW</th>\n",
       "    </tr>\n",
       "  </thead>\n",
       "  <tbody>\n",
       "    <tr>\n",
       "      <th>0</th>\n",
       "      <td>\"This movie was absolutely ghastly! I cannot f...</td>\n",
       "      <td>negative</td>\n",
       "      <td>2</td>\n",
       "      <td>2.0</td>\n",
       "    </tr>\n",
       "    <tr>\n",
       "      <th>1</th>\n",
       "      <td>\"Abu, THE THIEF OF BAGDAD, helps King Ahmed re...</td>\n",
       "      <td>positive</td>\n",
       "      <td>1</td>\n",
       "      <td>1.0</td>\n",
       "    </tr>\n",
       "    <tr>\n",
       "      <th>2</th>\n",
       "      <td>\"It kept me on the edge of my seat. True, the ...</td>\n",
       "      <td>positive</td>\n",
       "      <td>1</td>\n",
       "      <td>1.0</td>\n",
       "    </tr>\n",
       "    <tr>\n",
       "      <th>3</th>\n",
       "      <td>\"This Cannon Movie Tale is the worst of the lo...</td>\n",
       "      <td>negative</td>\n",
       "      <td>2</td>\n",
       "      <td>2.0</td>\n",
       "    </tr>\n",
       "    <tr>\n",
       "      <th>4</th>\n",
       "      <td>I read some previous comments stating that thi...</td>\n",
       "      <td>positive</td>\n",
       "      <td>1</td>\n",
       "      <td>1.0</td>\n",
       "    </tr>\n",
       "  </tbody>\n",
       "</table>\n",
       "</div>"
      ],
      "text/plain": [
       "                                              REVIEW  ... PREDICTED_REVIEW\n",
       "0  \"This movie was absolutely ghastly! I cannot f...  ...              2.0\n",
       "1  \"Abu, THE THIEF OF BAGDAD, helps King Ahmed re...  ...              1.0\n",
       "2  \"It kept me on the edge of my seat. True, the ...  ...              1.0\n",
       "3  \"This Cannon Movie Tale is the worst of the lo...  ...              2.0\n",
       "4  I read some previous comments stating that thi...  ...              1.0\n",
       "\n",
       "[5 rows x 4 columns]"
      ]
     },
     "execution_count": 147,
     "metadata": {},
     "output_type": "execute_result"
    }
   ],
   "source": [
    "session.sql(\n",
    "    \"SELECT REVIEW, SENTIMENT, SENTIMENT_FLAG, \\\n",
    "            predict_review(ARRAY_CONSTRUCT( \\\n",
    "                                    REVIEW, \\\n",
    "                                    SENTIMENT_FLAG)) as PREDICTED_REVIEW \\\n",
    "                                    from VIEW_TEST_DATASET\"\n",
    ").toPandas().head()"
   ]
  },
  {
   "cell_type": "markdown",
   "metadata": {},
   "source": [
    "#### <a id='isection12'> __Pushing the Prediction to Snowflake__ </a>"
   ]
  },
  {
   "cell_type": "code",
   "execution_count": 149,
   "metadata": {},
   "outputs": [
    {
     "name": "stdout",
     "output_type": "stream",
     "text": [
      "CPU times: total: 328 ms\n",
      "Wall time: 1min 13s\n"
     ]
    }
   ],
   "source": [
    "%%time\n",
    "\n",
    "# Using SQL\n",
    "\n",
    "'''\n",
    "session.sql(\n",
    "\"SELECT REVIEW, SENTIMENT, SENTIMENT_FLAG, \\\n",
    "predict_review(ARRAY_CONSTRUCT(REVIEW, SENTIMENT_FLAG)) as PREDICTED_REVIEW \\\n",
    "FROM VIEW_TEST_DATASET SAMPLE (10 rows)\") \\\n",
    ".write.mode('overwrite').saveAsTable('review_prediction')\n",
    "'''\n",
    "\n",
    "# Using Python\n",
    "\n",
    "new_df.select(\n",
    "    new_df.REVIEW,\n",
    "    new_df.SENTIMENT,\n",
    "    new_df.SENTIMENT_FLAG,\n",
    "    fn.call_udf(\n",
    "        \"predict_review\", \n",
    "        fn.array_construct(col(\"REVIEW\"), col(\"SENTIMENT_FLAG\"))\n",
    "    ).alias(\"PREDICTED_REVIEW\"),\n",
    ").write.mode(\"overwrite\").saveAsTable(\"review_prediction\")"
   ]
  },
  {
   "cell_type": "markdown",
   "metadata": {},
   "source": [
    "#### __Compare differences with the target label with the Predictions__"
   ]
  },
  {
   "cell_type": "code",
   "execution_count": 150,
   "metadata": {},
   "outputs": [
    {
     "name": "stdout",
     "output_type": "stream",
     "text": [
      "------------------------------------------------------------------\n",
      "|\"REVIEW\"  |\"SENTIMENT\"  |\"SENTIMENT_FLAG\"  |\"PREDICTED_REVIEW\"  |\n",
      "------------------------------------------------------------------\n",
      "|          |             |                  |                    |\n",
      "------------------------------------------------------------------\n",
      "\n"
     ]
    }
   ],
   "source": [
    "session.sql(\n",
    "    \"SELECT * FROM REVIEW_PREDICTION WHERE SENTIMENT_FLAG <> PREDICTED_REVIEW\"\n",
    ").show()"
   ]
  },
  {
   "cell_type": "markdown",
   "metadata": {},
   "source": [
    "#### __Close Snowpark Session__"
   ]
  },
  {
   "cell_type": "code",
   "execution_count": 151,
   "metadata": {},
   "outputs": [],
   "source": [
    "session.close()"
   ]
  }
 ],
 "metadata": {
  "kernelspec": {
   "display_name": "snowflake",
   "language": "python",
   "name": "python3"
  },
  "language_info": {
   "codemirror_mode": {
    "name": "ipython",
    "version": 3
   },
   "file_extension": ".py",
   "mimetype": "text/x-python",
   "name": "python",
   "nbconvert_exporter": "python",
   "pygments_lexer": "ipython3",
   "version": "3.8.10"
  }
 },
 "nbformat": 4,
 "nbformat_minor": 2
}
